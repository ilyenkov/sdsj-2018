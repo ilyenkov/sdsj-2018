{
 "cells": [
  {
   "cell_type": "markdown",
   "metadata": {},
   "source": [
    "В данном ноутбуке сделаны оценки размеров и характеристик <b>public</b> датасетов. Понятно, что эти характеристики не обязаны совпадать с характеристиками датасетов из набора <b>private</b>, по которым будут подведены окончательные итоги. Но пространство харакетристик <b>public</b> датасетов несколько больше, чем у <b>check</b> датасетов, так что такие оценки могут помочь в подготовке корректно отрабатывающих решений. \n",
    "\n",
    "Оценки получены с помощью задержек времени: \n",
    "\n",
    "- берётся минимальный исполняемый без ошибок код (чтение файла и запись нулевых предсказаний) и засекается время\n",
    "- добавляется задержка времени за каждую строку или тот или иной тип столбца"
   ]
  },
  {
   "cell_type": "code",
   "execution_count": 1,
   "metadata": {
    "collapsed": true
   },
   "outputs": [],
   "source": [
    "import pandas as pd\n",
    "import numpy as np"
   ]
  },
  {
   "cell_type": "code",
   "execution_count": 2,
   "metadata": {
    "collapsed": true
   },
   "outputs": [],
   "source": [
    "train_limits = [300,300,300,300,300,600,1800,1800]\n",
    "test_limits = [300,300,300,300,300,300,300,300]"
   ]
  },
  {
   "cell_type": "code",
   "execution_count": 3,
   "metadata": {
    "collapsed": true
   },
   "outputs": [],
   "source": [
    "train_times_base = [2.457924, 3.565435, 3.541296, 3.451769, 3.557235, 6.523217, 44.531233, 56.652558]\n",
    "test_times_base = [2.637015, 3.609926, 4.640570, 3.664909, 3.546279, 4.635332, 14.664047, 56.531765]"
   ]
  },
  {
   "cell_type": "code",
   "execution_count": 4,
   "metadata": {},
   "outputs": [],
   "source": [
    "# общее количество столбцов\n",
    "train_times_cols = [7.402195, 13.458852, 7.605927, 6.444866, 7.541857, 20.578517, 7*60+12.538013, 60+37.389323]\n",
    "test_times_cols = [6.672376, 13.642278, 8.577456, 6.644376, 7.653464, 18.592532, 0, 60+35.580226]"
   ]
  },
  {
   "cell_type": "code",
   "execution_count": 5,
   "metadata": {
    "collapsed": true
   },
   "outputs": [],
   "source": [
    "train_times_rows = [3.243647, 6.517584, 23.524735, 7.365443, 16.489477, 18.486783, 50.507639, 120+35.529968]\n",
    "test_times_rows = [3.630711, 5.616317, 24.647365, 8.657998, 7.642431, 9.602436, 15.699040, 120+36.701354]"
   ]
  },
  {
   "cell_type": "code",
   "execution_count": 6,
   "metadata": {
    "collapsed": true
   },
   "outputs": [],
   "source": [
    "train_times_strs = [3.321004, 3.517424, 3.511291, 3.326997, 3.614427, 7.436826, 48.422907, 65.445962]\n",
    "test_times_dates = [3.645378, 3.622774, 4.573447, 3.610938, 4.426323, 5.580422, 15.604530, 62.564044]"
   ]
  },
  {
   "cell_type": "code",
   "execution_count": 7,
   "metadata": {},
   "outputs": [],
   "source": [
    "df = pd.DataFrame({'train_time_base':train_times_base, 'test_time_base':test_times_base, \n",
    "                   'train_time_rows':train_times_rows, 'test_time_rows':test_times_rows,\n",
    "                   'train_time_cols':train_times_cols, 'test_time_cols':test_times_cols, \n",
    "                   'train_time_strs':train_times_strs, 'test_time_dates':test_times_dates,\n",
    "                   'train_limit':train_limits, 'test_limit':test_limits}, \n",
    "                   index = ['public_'+str(i) for i in range(1,9)])"
   ]
  },
  {
   "cell_type": "code",
   "execution_count": 8,
   "metadata": {},
   "outputs": [],
   "source": [
    "df['train_lenght'] = ((df['train_time_rows'] - df['train_time_base']) / 0.0001).astype(int)\n",
    "df['test_lenght'] = ((df['test_time_rows'] - df['test_time_base']) / 0.0001).astype(int)"
   ]
  },
  {
   "cell_type": "code",
   "execution_count": 9,
   "metadata": {},
   "outputs": [],
   "source": [
    "df['train_cols'] = ((df['train_time_cols'] - df['train_time_base']) / 0.1).astype(int)\n",
    "df['test_cols'] = ((df['test_time_cols'] - df['test_time_base']) / 0.1).astype(int)"
   ]
  },
  {
   "cell_type": "code",
   "execution_count": 10,
   "metadata": {
    "collapsed": true
   },
   "outputs": [],
   "source": [
    "df['str_cols'] = ((df['train_time_strs'] - df['train_time_base']) / 0.1).astype(int)\n",
    "df['date_cols'] = ((df['test_time_dates'] - df['test_time_base']) / 0.1).astype(int)"
   ]
  },
  {
   "cell_type": "code",
   "execution_count": 11,
   "metadata": {},
   "outputs": [],
   "source": [
    "#исправление ошибок\n",
    "df.loc['public_7','test_cols'] = df.loc['public_7','train_cols'] # вылетело по таймлимиту\n",
    "df.loc['public_4','str_cols'] = 0 #получилось -1"
   ]
  },
  {
   "cell_type": "code",
   "execution_count": 12,
   "metadata": {},
   "outputs": [],
   "source": [
    "df['numerical_cols'] = ((df['train_cols'] - 1 + df['test_cols']) / 2 - df['str_cols'] - df['date_cols']).astype(int)"
   ]
  },
  {
   "cell_type": "code",
   "execution_count": 13,
   "metadata": {},
   "outputs": [
    {
     "data": {
      "text/html": [
       "<div>\n",
       "<style>\n",
       "    .dataframe thead tr:only-child th {\n",
       "        text-align: right;\n",
       "    }\n",
       "\n",
       "    .dataframe thead th {\n",
       "        text-align: left;\n",
       "    }\n",
       "\n",
       "    .dataframe tbody tr th {\n",
       "        vertical-align: top;\n",
       "    }\n",
       "</style>\n",
       "<table border=\"1\" class=\"dataframe\">\n",
       "  <thead>\n",
       "    <tr style=\"text-align: right;\">\n",
       "      <th></th>\n",
       "      <th>train_lenght</th>\n",
       "      <th>test_lenght</th>\n",
       "      <th>train_cols</th>\n",
       "      <th>test_cols</th>\n",
       "      <th>str_cols</th>\n",
       "      <th>date_cols</th>\n",
       "      <th>numerical_cols</th>\n",
       "      <th>train_limit</th>\n",
       "      <th>test_limit</th>\n",
       "    </tr>\n",
       "  </thead>\n",
       "  <tbody>\n",
       "    <tr>\n",
       "      <th>public_1</th>\n",
       "      <td>7857</td>\n",
       "      <td>9936</td>\n",
       "      <td>49</td>\n",
       "      <td>40</td>\n",
       "      <td>8</td>\n",
       "      <td>10</td>\n",
       "      <td>26</td>\n",
       "      <td>300</td>\n",
       "      <td>300</td>\n",
       "    </tr>\n",
       "    <tr>\n",
       "      <th>public_2</th>\n",
       "      <td>29521</td>\n",
       "      <td>20063</td>\n",
       "      <td>98</td>\n",
       "      <td>100</td>\n",
       "      <td>0</td>\n",
       "      <td>0</td>\n",
       "      <td>98</td>\n",
       "      <td>300</td>\n",
       "      <td>300</td>\n",
       "    </tr>\n",
       "    <tr>\n",
       "      <th>public_3</th>\n",
       "      <td>199834</td>\n",
       "      <td>200067</td>\n",
       "      <td>40</td>\n",
       "      <td>39</td>\n",
       "      <td>0</td>\n",
       "      <td>0</td>\n",
       "      <td>39</td>\n",
       "      <td>300</td>\n",
       "      <td>300</td>\n",
       "    </tr>\n",
       "    <tr>\n",
       "      <th>public_4</th>\n",
       "      <td>39136</td>\n",
       "      <td>49930</td>\n",
       "      <td>29</td>\n",
       "      <td>29</td>\n",
       "      <td>0</td>\n",
       "      <td>0</td>\n",
       "      <td>28</td>\n",
       "      <td>300</td>\n",
       "      <td>300</td>\n",
       "    </tr>\n",
       "    <tr>\n",
       "      <th>public_5</th>\n",
       "      <td>129322</td>\n",
       "      <td>40961</td>\n",
       "      <td>39</td>\n",
       "      <td>41</td>\n",
       "      <td>0</td>\n",
       "      <td>8</td>\n",
       "      <td>31</td>\n",
       "      <td>300</td>\n",
       "      <td>300</td>\n",
       "    </tr>\n",
       "    <tr>\n",
       "      <th>public_6</th>\n",
       "      <td>119635</td>\n",
       "      <td>49671</td>\n",
       "      <td>140</td>\n",
       "      <td>139</td>\n",
       "      <td>9</td>\n",
       "      <td>9</td>\n",
       "      <td>121</td>\n",
       "      <td>600</td>\n",
       "      <td>300</td>\n",
       "    </tr>\n",
       "    <tr>\n",
       "      <th>public_7</th>\n",
       "      <td>59764</td>\n",
       "      <td>10349</td>\n",
       "      <td>3880</td>\n",
       "      <td>3880</td>\n",
       "      <td>38</td>\n",
       "      <td>9</td>\n",
       "      <td>3832</td>\n",
       "      <td>1800</td>\n",
       "      <td>300</td>\n",
       "    </tr>\n",
       "    <tr>\n",
       "      <th>public_8</th>\n",
       "      <td>988774</td>\n",
       "      <td>1001695</td>\n",
       "      <td>407</td>\n",
       "      <td>390</td>\n",
       "      <td>87</td>\n",
       "      <td>60</td>\n",
       "      <td>251</td>\n",
       "      <td>1800</td>\n",
       "      <td>300</td>\n",
       "    </tr>\n",
       "  </tbody>\n",
       "</table>\n",
       "</div>"
      ],
      "text/plain": [
       "          train_lenght  test_lenght  train_cols  test_cols  str_cols  \\\n",
       "public_1          7857         9936          49         40         8   \n",
       "public_2         29521        20063          98        100         0   \n",
       "public_3        199834       200067          40         39         0   \n",
       "public_4         39136        49930          29         29         0   \n",
       "public_5        129322        40961          39         41         0   \n",
       "public_6        119635        49671         140        139         9   \n",
       "public_7         59764        10349        3880       3880        38   \n",
       "public_8        988774      1001695         407        390        87   \n",
       "\n",
       "          date_cols  numerical_cols  train_limit  test_limit  \n",
       "public_1         10              26          300         300  \n",
       "public_2          0              98          300         300  \n",
       "public_3          0              39          300         300  \n",
       "public_4          0              28          300         300  \n",
       "public_5          8              31          300         300  \n",
       "public_6          9             121          600         300  \n",
       "public_7          9            3832         1800         300  \n",
       "public_8         60             251         1800         300  "
      ]
     },
     "execution_count": 13,
     "metadata": {},
     "output_type": "execute_result"
    }
   ],
   "source": [
    "df[['train_lenght', 'test_lenght', 'train_cols', 'test_cols', 'str_cols', 'date_cols', 'numerical_cols', 'train_limit', 'test_limit']]"
   ]
  },
  {
   "cell_type": "markdown",
   "metadata": {},
   "source": [
    "Аналогичные характеристики <b>check</b> датасетов."
   ]
  },
  {
   "cell_type": "code",
   "execution_count": 14,
   "metadata": {
    "collapsed": true
   },
   "outputs": [],
   "source": [
    "folders = ['check_'+str(i)+'_r' for i in range(1,4)]+['check_'+str(i)+'_c' for i in range(4,9)]"
   ]
  },
  {
   "cell_type": "code",
   "execution_count": 15,
   "metadata": {},
   "outputs": [
    {
     "name": "stdout",
     "output_type": "stream",
     "text": [
      "check_1_r check_2_r check_3_r check_4_c check_5_c check_6_c check_7_c check_8_c "
     ]
    }
   ],
   "source": [
    "train_lenghts = []\n",
    "test_lenghts = []\n",
    "train_cols = []\n",
    "test_cols = []\n",
    "str_cols = []\n",
    "date_cols = []\n",
    "numerical_cols = []\n",
    "train_limits = [300, 300, 300, 300, 300, '', '', '']\n",
    "test_limits = [300, 300, 300, 300, 300, '', '', '']\n",
    "\n",
    "for folder in folders:\n",
    "    print(folder, end=' ')\n",
    "    train = pd.read_csv('../data/'+folder+'/train.csv', low_memory=False)\n",
    "    train_lenghts.append(train.shape[0])\n",
    "    train_cols.append(train.shape[1])\n",
    "    str_cols.append(len([c for c in train.columns.tolist() if c.startswith('string')]))\n",
    "    date_cols.append(len([c for c in train.columns.tolist() if c.startswith('datetime')]))\n",
    "    numerical_cols.append(len([c for c in train.columns.tolist() if c.startswith('number')]))\n",
    "    \n",
    "    test = pd.read_csv('../data/'+folder+'/test.csv', low_memory=False)\n",
    "    test_lenghts.append(test.shape[0])\n",
    "    test_cols.append(test.shape[1])\n",
    "    del train, test"
   ]
  },
  {
   "cell_type": "code",
   "execution_count": 16,
   "metadata": {},
   "outputs": [],
   "source": [
    "check = pd.DataFrame({'train_lenght':train_lenghts, 'test_lenght':test_lenghts, 'train_cols':train_cols, 'test_cols':test_cols,\n",
    "                      'str_cols':str_cols, 'date_cols':date_cols, 'numerical_cols':numerical_cols, \n",
    "                      'train_limit':train_limits, 'test_limit':test_limits}, index = folders)"
   ]
  },
  {
   "cell_type": "code",
   "execution_count": 17,
   "metadata": {},
   "outputs": [
    {
     "data": {
      "text/html": [
       "<div>\n",
       "<style>\n",
       "    .dataframe thead tr:only-child th {\n",
       "        text-align: right;\n",
       "    }\n",
       "\n",
       "    .dataframe thead th {\n",
       "        text-align: left;\n",
       "    }\n",
       "\n",
       "    .dataframe tbody tr th {\n",
       "        vertical-align: top;\n",
       "    }\n",
       "</style>\n",
       "<table border=\"1\" class=\"dataframe\">\n",
       "  <thead>\n",
       "    <tr style=\"text-align: right;\">\n",
       "      <th></th>\n",
       "      <th>train_lenght</th>\n",
       "      <th>test_lenght</th>\n",
       "      <th>train_cols</th>\n",
       "      <th>test_cols</th>\n",
       "      <th>str_cols</th>\n",
       "      <th>date_cols</th>\n",
       "      <th>numerical_cols</th>\n",
       "      <th>train_limit</th>\n",
       "      <th>test_limit</th>\n",
       "    </tr>\n",
       "  </thead>\n",
       "  <tbody>\n",
       "    <tr>\n",
       "      <th>check_1_r</th>\n",
       "      <td>365</td>\n",
       "      <td>172</td>\n",
       "      <td>42</td>\n",
       "      <td>41</td>\n",
       "      <td>0</td>\n",
       "      <td>1</td>\n",
       "      <td>39</td>\n",
       "      <td>300</td>\n",
       "      <td>300</td>\n",
       "    </tr>\n",
       "    <tr>\n",
       "      <th>check_2_r</th>\n",
       "      <td>13958</td>\n",
       "      <td>5976</td>\n",
       "      <td>11</td>\n",
       "      <td>10</td>\n",
       "      <td>2</td>\n",
       "      <td>0</td>\n",
       "      <td>6</td>\n",
       "      <td>300</td>\n",
       "      <td>300</td>\n",
       "    </tr>\n",
       "    <tr>\n",
       "      <th>check_3_r</th>\n",
       "      <td>250000</td>\n",
       "      <td>146400</td>\n",
       "      <td>43</td>\n",
       "      <td>42</td>\n",
       "      <td>0</td>\n",
       "      <td>1</td>\n",
       "      <td>39</td>\n",
       "      <td>300</td>\n",
       "      <td>300</td>\n",
       "    </tr>\n",
       "    <tr>\n",
       "      <th>check_4_c</th>\n",
       "      <td>114130</td>\n",
       "      <td>45385</td>\n",
       "      <td>143</td>\n",
       "      <td>142</td>\n",
       "      <td>0</td>\n",
       "      <td>3</td>\n",
       "      <td>138</td>\n",
       "      <td>300</td>\n",
       "      <td>300</td>\n",
       "    </tr>\n",
       "    <tr>\n",
       "      <th>check_5_c</th>\n",
       "      <td>467485</td>\n",
       "      <td>169638</td>\n",
       "      <td>17</td>\n",
       "      <td>16</td>\n",
       "      <td>0</td>\n",
       "      <td>1</td>\n",
       "      <td>14</td>\n",
       "      <td>300</td>\n",
       "      <td>300</td>\n",
       "    </tr>\n",
       "    <tr>\n",
       "      <th>check_6_c</th>\n",
       "      <td>108814</td>\n",
       "      <td>72545</td>\n",
       "      <td>114</td>\n",
       "      <td>113</td>\n",
       "      <td>0</td>\n",
       "      <td>0</td>\n",
       "      <td>112</td>\n",
       "      <td></td>\n",
       "      <td></td>\n",
       "    </tr>\n",
       "    <tr>\n",
       "      <th>check_7_c</th>\n",
       "      <td>92091</td>\n",
       "      <td>87062</td>\n",
       "      <td>774</td>\n",
       "      <td>773</td>\n",
       "      <td>4</td>\n",
       "      <td>2</td>\n",
       "      <td>765</td>\n",
       "      <td></td>\n",
       "      <td></td>\n",
       "    </tr>\n",
       "    <tr>\n",
       "      <th>check_8_c</th>\n",
       "      <td>143525</td>\n",
       "      <td>61512</td>\n",
       "      <td>878</td>\n",
       "      <td>877</td>\n",
       "      <td>32</td>\n",
       "      <td>91</td>\n",
       "      <td>753</td>\n",
       "      <td></td>\n",
       "      <td></td>\n",
       "    </tr>\n",
       "  </tbody>\n",
       "</table>\n",
       "</div>"
      ],
      "text/plain": [
       "           train_lenght  test_lenght  train_cols  test_cols  str_cols  \\\n",
       "check_1_r           365          172          42         41         0   \n",
       "check_2_r         13958         5976          11         10         2   \n",
       "check_3_r        250000       146400          43         42         0   \n",
       "check_4_c        114130        45385         143        142         0   \n",
       "check_5_c        467485       169638          17         16         0   \n",
       "check_6_c        108814        72545         114        113         0   \n",
       "check_7_c         92091        87062         774        773         4   \n",
       "check_8_c        143525        61512         878        877        32   \n",
       "\n",
       "           date_cols  numerical_cols train_limit test_limit  \n",
       "check_1_r          1              39         300        300  \n",
       "check_2_r          0               6         300        300  \n",
       "check_3_r          1              39         300        300  \n",
       "check_4_c          3             138         300        300  \n",
       "check_5_c          1              14         300        300  \n",
       "check_6_c          0             112                         \n",
       "check_7_c          2             765                         \n",
       "check_8_c         91             753                         "
      ]
     },
     "execution_count": 17,
     "metadata": {},
     "output_type": "execute_result"
    }
   ],
   "source": [
    "check[['train_lenght', 'test_lenght', 'train_cols', 'test_cols', 'str_cols', 'date_cols', 'numerical_cols', 'train_limit', 'test_limit']]"
   ]
  },
  {
   "cell_type": "markdown",
   "metadata": {},
   "source": [
    "Максимальный размер датасета <b>public</b> больше, чем датасета <b>check</b>:\n",
    "- по количеству строк в 2 раза (~1 млн строк vs ~0.5 млн строк)\n",
    "- по количеству столбцов в 4 раза (~3880 столбцов vs 878 столбцов)    "
   ]
  },
  {
   "cell_type": "code",
   "execution_count": null,
   "metadata": {
    "collapsed": true
   },
   "outputs": [],
   "source": []
  }
 ],
 "metadata": {
  "kernelspec": {
   "display_name": "Python 3",
   "language": "python",
   "name": "python3"
  },
  "language_info": {
   "codemirror_mode": {
    "name": "ipython",
    "version": 3
   },
   "file_extension": ".py",
   "mimetype": "text/x-python",
   "name": "python",
   "nbconvert_exporter": "python",
   "pygments_lexer": "ipython3",
   "version": "3.6.3"
  }
 },
 "nbformat": 4,
 "nbformat_minor": 2
}
